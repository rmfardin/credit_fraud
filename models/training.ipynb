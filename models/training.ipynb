{
 "cells": [
  {
   "cell_type": "markdown",
   "id": "96d85a43",
   "metadata": {},
   "source": [
    "# Training Models"
   ]
  },
  {
   "cell_type": "code",
   "execution_count": null,
   "id": "69944913",
   "metadata": {
    "tags": []
   },
   "outputs": [],
   "source": [
    "import pandas as pd\n",
    "import numpy as np\n",
    "import joblib\n",
    "import os\n",
    "import matplotlib.pyplot as plt\n",
    "import seaborn as sns\n",
    "from sklearn.model_selection import train_test_split\n",
    "from sklearn.linear_model import LogisticRegression\n",
    "from sklearn.ensemble import RandomForestClassifier\n",
    "from xgboost import XGBClassifier\n",
    "from sklearn.metrics import classification_report, roc_auc_score, roc_curve, precision_recall_curve\n",
    "import wandb\n",
    "from wandb.sklearn import plot_classifier, plot_roc, plot_precision_recall\n"
   ]
  },
  {
   "cell_type": "code",
   "execution_count": null,
   "id": "2434f73e",
   "metadata": {
    "tags": []
   },
   "outputs": [],
   "source": [
    "# Initialize Weights & Biases\n",
    "wandb.init(project=\"fraud_detection_pipeline\", name=\"baseline_vs_tree_models\")\n",
    "\n",
    "# Load data\n",
    "DATA_PATH = \"../data/train_eval_transactions.csv\"\n",
    "df_rest = pd.read_csv(DATA_PATH)\n",
    "\n",
    "# Feature selection\n",
    "FEATURES = [\n",
    "    \"log_amount\", \"is_high_value\", \"is_night\", \"cvv_mismatch\",\n",
    "    \"country_mismatch\", \"card_not_present\", \"high_risk_category\"\n",
    "]\n",
    "TARGET = \"isFraud\"\n",
    "\n",
    "X = df_rest[FEATURES]\n",
    "y = df_rest[TARGET]\n",
    "\n",
    "# Train/test split\n",
    "X_train, X_test, y_train, y_test = train_test_split(\n",
    "    X, y, test_size=0.3, stratify=y, random_state=42\n",
    ")\n",
    "\n",
    "# Models\n",
    "models = {\n",
    "    \"LogisticRegression\": LogisticRegression(class_weight=\"balanced\", max_iter=1000),\n",
    "    \"RandomForest\": RandomForestClassifier(n_estimators=100, class_weight=\"balanced\", random_state=42),\n",
    "    \"XGBoost\": XGBClassifier(scale_pos_weight=(len(y_train[y_train==0]) / len(y_train[y_train==1])),\n",
    "                               use_label_encoder=False, eval_metric=\"logloss\", random_state=42)\n",
    "}\n",
    "\n",
    "# Training & Evaluation\n",
    "for name, model in models.items():\n",
    "    model.fit(X_train, y_train)\n",
    "    preds = model.predict(X_test)\n",
    "    proba = model.predict_proba(X_test)[:, 1]\n",
    "\n",
    "    # Metrics\n",
    "    auc = roc_auc_score(y_test, proba)\n",
    "    report = classification_report(y_test, preds, output_dict=True)\n",
    "\n",
    "    wandb.log({\n",
    "        f\"{name}/ROC_AUC\": auc,\n",
    "        f\"{name}/Precision\": report[\"1\"][\"precision\"],\n",
    "        f\"{name}/Recall\": report[\"1\"][\"recall\"],\n",
    "        f\"{name}/F1\": report[\"1\"][\"f1-score\"]\n",
    "    })\n",
    "\n",
    "    # Save model\n",
    "    save_path = f\"../models/saved_models/{name}.pkl\"\n",
    "    os.makedirs(os.path.dirname(save_path), exist_ok=True)\n",
    "    joblib.dump(model, save_path)\n",
    "    wandb.save(save_path)\n",
    "\n",
    "    # Plot ROC curve\n",
    "    fpr, tpr, _ = roc_curve(y_test, proba)\n",
    "    plt.figure()\n",
    "    plt.plot(fpr, tpr, label=f\"{name} (AUC = {auc:.2f})\")\n",
    "    plt.plot([0, 1], [0, 1], linestyle=\"--\", color=\"gray\")\n",
    "    plt.xlabel(\"False Positive Rate\")\n",
    "    plt.ylabel(\"True Positive Rate\")\n",
    "    plt.title(f\"ROC Curve - {name}\")\n",
    "    plt.legend()\n",
    "    roc_plot_path = f\"../models/plots/roc_{name}.png\"\n",
    "    os.makedirs(os.path.dirname(roc_plot_path), exist_ok=True)\n",
    "    plt.savefig(roc_plot_path)\n",
    "    wandb.log({f\"{name}/ROC Curve\": wandb.Image(roc_plot_path)})\n",
    "    plt.close()\n",
    "\n",
    "wandb.finish()"
   ]
  },
  {
   "cell_type": "code",
   "execution_count": null,
   "id": "80356e6e",
   "metadata": {},
   "outputs": [],
   "source": []
  }
 ],
 "metadata": {
  "kernelspec": {
   "display_name": "Python 3 (ipykernel)",
   "language": "python",
   "name": "python3"
  },
  "language_info": {
   "codemirror_mode": {
    "name": "ipython",
    "version": 3
   },
   "file_extension": ".py",
   "mimetype": "text/x-python",
   "name": "python",
   "nbconvert_exporter": "python",
   "pygments_lexer": "ipython3",
   "version": "3.11.5"
  }
 },
 "nbformat": 4,
 "nbformat_minor": 5
}
