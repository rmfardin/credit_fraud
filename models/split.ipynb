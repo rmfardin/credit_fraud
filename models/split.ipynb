{
 "cells": [
  {
   "cell_type": "code",
   "execution_count": 3,
   "id": "1ad10761",
   "metadata": {},
   "outputs": [],
   "source": [
    "import pandas as pd\n",
    "from sklearn.model_selection import train_test_split\n",
    "\n",
    "# Load processed dataset\n",
    "df = pd.read_csv(\"../data/processed_transactions.csv\")\n",
    "\n",
    "# Step 1: Create the holdout set (10%)\n",
    "df_rest, df_holdout = train_test_split(df, test_size=0.1, stratify=df[\"isFraud\"], random_state=42)\n",
    "\n",
    "# Step 2: Save both\n",
    "df_rest.to_csv(\"../data/train_eval_transactions.csv\", index=False)\n",
    "df_holdout.to_csv(\"../data/holdout_streamlit.csv\", index=False)\n"
   ]
  },
  {
   "cell_type": "code",
   "execution_count": 5,
   "id": "e20f1a54",
   "metadata": {},
   "outputs": [],
   "source": [
    "import sqlite3\n",
    "conn = sqlite3.connect(\"../fraud.db\")\n",
    "df_rest.to_sql(\"training_transactions\", conn, if_exists=\"replace\", index=False)\n",
    "conn.close()"
   ]
  },
  {
   "cell_type": "code",
   "execution_count": 7,
   "id": "f0a04c23",
   "metadata": {},
   "outputs": [],
   "source": [
    "conn = sqlite3.connect(\"../fraud.db\")\n",
    "df_holdout.to_sql(\"pipeline_transactions\", conn, if_exists=\"replace\", index=False)\n",
    "conn.close()"
   ]
  },
  {
   "cell_type": "markdown",
   "id": "068e51bf",
   "metadata": {},
   "source": [
    "## Training the model"
   ]
  }
 ],
 "metadata": {
  "kernelspec": {
   "display_name": "frdt",
   "language": "python",
   "name": "python3"
  },
  "language_info": {
   "codemirror_mode": {
    "name": "ipython",
    "version": 3
   },
   "file_extension": ".py",
   "mimetype": "text/x-python",
   "name": "python",
   "nbconvert_exporter": "python",
   "pygments_lexer": "ipython3",
   "version": "3.11.11"
  }
 },
 "nbformat": 4,
 "nbformat_minor": 5
}
