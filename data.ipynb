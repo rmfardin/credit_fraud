{
 "cells": [
  {
   "cell_type": "code",
   "execution_count": 1,
   "id": "cb549542",
   "metadata": {},
   "outputs": [],
   "source": [
    "import sqlite3\n",
    "\n",
    "conn = sqlite3.connect('../fraud.db')"
   ]
  },
  {
   "cell_type": "code",
   "execution_count": 4,
   "id": "31fd4c06",
   "metadata": {},
   "outputs": [
    {
     "name": "stdout",
     "output_type": "stream",
     "text": [
      "('rideshare', 'high')\n",
      "('entertainment', 'medium')\n",
      "('mobileapps', 'low')\n",
      "('fastfood', 'low')\n",
      "('food_delivery', 'low')\n",
      "('auto', 'medium')\n",
      "('online_retail', 'high')\n",
      "('gym', 'low')\n",
      "('health', 'low')\n",
      "('personal care', 'low')\n",
      "('food', 'low')\n",
      "('fuel', 'low')\n",
      "('online_subscriptions', 'low')\n",
      "('online_gifts', 'high')\n",
      "('hotels', 'low')\n",
      "('airline', 'high')\n",
      "('furniture', 'medium')\n",
      "('subscriptions', 'low')\n",
      "('cable/phone', 'low')\n"
     ]
    }
   ],
   "source": [
    "query = \"SELECT DISTINCT merchantCategoryCode, category_risk_level FROM processed_transactions;\"\n",
    "result = conn.execute(query).fetchall()\n",
    "for row in result:\n",
    "    print(row)"
   ]
  },
  {
   "cell_type": "code",
   "execution_count": null,
   "id": "61b59cf3",
   "metadata": {},
   "outputs": [],
   "source": []
  }
 ],
 "metadata": {
  "kernelspec": {
   "display_name": "frdt",
   "language": "python",
   "name": "python3"
  },
  "language_info": {
   "codemirror_mode": {
    "name": "ipython",
    "version": 3
   },
   "file_extension": ".py",
   "mimetype": "text/x-python",
   "name": "python",
   "nbconvert_exporter": "python",
   "pygments_lexer": "ipython3",
   "version": "3.11.11"
  }
 },
 "nbformat": 4,
 "nbformat_minor": 5
}
